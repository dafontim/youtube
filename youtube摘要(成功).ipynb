{
  "nbformat": 4,
  "nbformat_minor": 0,
  "metadata": {
    "colab": {
      "provenance": []
    },
    "kernelspec": {
      "name": "python3",
      "display_name": "Python 3"
    },
    "language_info": {
      "name": "python"
    }
  },
  "cells": [
    {
      "cell_type": "code",
      "execution_count": null,
      "metadata": {
        "colab": {
          "base_uri": "https://localhost:8080/"
        },
        "id": "Ft_R3w3B9jdu",
        "outputId": "d53f1726-b34d-4751-bc91-480d4378d5e4"
      },
      "outputs": [
        {
          "output_type": "stream",
          "name": "stdout",
          "text": [
            "target path = tim.mp3\n",
            "mp3 has been successfully downloaded.\n"
          ]
        }
      ],
      "source": [
        "from pytube import YouTube\n",
        "import os\n",
        "\n",
        "url = \"https://www.youtube.com/shorts/6FNq_HoyKXo\"\n",
        "target_path = \"./\"\n",
        "\n",
        "yt = YouTube(url)\n",
        "\n",
        "video = yt.streams.filter(only_audio=True).first()\n",
        "\n",
        "out_file = video.download(output_path=target_path)\n",
        "\n",
        "base, ext = os.path.splitext(out_file)\n",
        "new_file = \"tim\" + '.mp3'\n",
        "os.rename(out_file, new_file)\n",
        "\n",
        "print(\"target path = \" + (new_file))\n",
        "print(\"mp3 has been successfully downloaded.\")"
      ]
    },
    {
      "cell_type": "code",
      "source": [
        "!sudo apt-get install ffmpeg"
      ],
      "metadata": {
        "colab": {
          "base_uri": "https://localhost:8080/"
        },
        "id": "ennuAm87HVHW",
        "outputId": "54e79d98-7378-4d92-e16a-6568ebf73cfb"
      },
      "execution_count": null,
      "outputs": [
        {
          "output_type": "stream",
          "name": "stdout",
          "text": [
            "Reading package lists... Done\n",
            "Building dependency tree... Done\n",
            "Reading state information... Done\n",
            "ffmpeg is already the newest version (7:4.4.2-0ubuntu0.22.04.1).\n",
            "0 upgraded, 0 newly installed, 0 to remove and 27 not upgraded.\n"
          ]
        }
      ]
    },
    {
      "cell_type": "code",
      "source": [
        "!ffmpeg -i tim.mp3 -c:a libmp3lame -q:a 2 output.mp3"
      ],
      "metadata": {
        "colab": {
          "base_uri": "https://localhost:8080/"
        },
        "id": "IkcVCQ4fInTd",
        "outputId": "4c796e0b-4e75-4152-a17a-a7dee61d9eda"
      },
      "execution_count": null,
      "outputs": [
        {
          "output_type": "stream",
          "name": "stdout",
          "text": [
            "ffmpeg version 4.4.2-0ubuntu0.22.04.1 Copyright (c) 2000-2021 the FFmpeg developers\n",
            "  built with gcc 11 (Ubuntu 11.2.0-19ubuntu1)\n",
            "  configuration: --prefix=/usr --extra-version=0ubuntu0.22.04.1 --toolchain=hardened --libdir=/usr/lib/x86_64-linux-gnu --incdir=/usr/include/x86_64-linux-gnu --arch=amd64 --enable-gpl --disable-stripping --enable-gnutls --enable-ladspa --enable-libaom --enable-libass --enable-libbluray --enable-libbs2b --enable-libcaca --enable-libcdio --enable-libcodec2 --enable-libdav1d --enable-libflite --enable-libfontconfig --enable-libfreetype --enable-libfribidi --enable-libgme --enable-libgsm --enable-libjack --enable-libmp3lame --enable-libmysofa --enable-libopenjpeg --enable-libopenmpt --enable-libopus --enable-libpulse --enable-librabbitmq --enable-librubberband --enable-libshine --enable-libsnappy --enable-libsoxr --enable-libspeex --enable-libsrt --enable-libssh --enable-libtheora --enable-libtwolame --enable-libvidstab --enable-libvorbis --enable-libvpx --enable-libwebp --enable-libx265 --enable-libxml2 --enable-libxvid --enable-libzimg --enable-libzmq --enable-libzvbi --enable-lv2 --enable-omx --enable-openal --enable-opencl --enable-opengl --enable-sdl2 --enable-pocketsphinx --enable-librsvg --enable-libmfx --enable-libdc1394 --enable-libdrm --enable-libiec61883 --enable-chromaprint --enable-frei0r --enable-libx264 --enable-shared\n",
            "  libavutil      56. 70.100 / 56. 70.100\n",
            "  libavcodec     58.134.100 / 58.134.100\n",
            "  libavformat    58. 76.100 / 58. 76.100\n",
            "  libavdevice    58. 13.100 / 58. 13.100\n",
            "  libavfilter     7.110.100 /  7.110.100\n",
            "  libswscale      5.  9.100 /  5.  9.100\n",
            "  libswresample   3.  9.100 /  3.  9.100\n",
            "  libpostproc    55.  9.100 / 55.  9.100\n",
            "Input #0, mov,mp4,m4a,3gp,3g2,mj2, from 'tim.mp3':\n",
            "  Metadata:\n",
            "    major_brand     : dash\n",
            "    minor_version   : 0\n",
            "    compatible_brands: iso6mp41\n",
            "    creation_time   : 2023-11-25T18:43:43.000000Z\n",
            "  Duration: 00:00:59.72, start: 0.000000, bitrate: 48 kb/s\n",
            "  Stream #0:0(eng): Audio: aac (HE-AAC) (mp4a / 0x6134706D), 44100 Hz, stereo, fltp, 8 kb/s (default)\n",
            "    Metadata:\n",
            "      creation_time   : 2023-11-25T18:43:43.000000Z\n",
            "      handler_name    : ISO Media file produced by Google Inc.\n",
            "      vendor_id       : [0][0][0][0]\n",
            "Stream mapping:\n",
            "  Stream #0:0 -> #0:0 (aac (native) -> mp3 (libmp3lame))\n",
            "Press [q] to stop, [?] for help\n",
            "Output #0, mp3, to 'output.mp3':\n",
            "  Metadata:\n",
            "    major_brand     : dash\n",
            "    minor_version   : 0\n",
            "    compatible_brands: iso6mp41\n",
            "    TSSE            : Lavf58.76.100\n",
            "  Stream #0:0(eng): Audio: mp3, 44100 Hz, stereo, fltp (default)\n",
            "    Metadata:\n",
            "      creation_time   : 2023-11-25T18:43:43.000000Z\n",
            "      handler_name    : ISO Media file produced by Google Inc.\n",
            "      vendor_id       : [0][0][0][0]\n",
            "      encoder         : Lavc58.134.100 libmp3lame\n",
            "size=    1185kB time=00:00:59.71 bitrate= 162.6kbits/s speed=44.6x    \n",
            "video:0kB audio:1185kB subtitle:0kB other streams:0kB global headers:0kB muxing overhead: 0.028514%\n"
          ]
        }
      ]
    },
    {
      "cell_type": "code",
      "source": [
        "from pydub import AudioSegment\n",
        "\n",
        "# 載入 MP3 音檔\n",
        "sound = AudioSegment.from_file('output.mp3', format='mp3')\n",
        "\n",
        "# 設定每個分割檔案的長度（單位：毫秒）\n",
        "segment_length = 1000000\n",
        "\n",
        "# 將音檔分割成多個檔案\n",
        "for i, chunk in enumerate(sound[::segment_length]):\n",
        "    # 設定分割檔案的檔名\n",
        "    chunk.export(f'output_{i}.mp3', format='mp3')"
      ],
      "metadata": {
        "id": "bbiKJSEB95jI"
      },
      "execution_count": null,
      "outputs": []
    },
    {
      "cell_type": "code",
      "source": [
        "from openai import OpenAI\n",
        "client = OpenAI(api_key=\"token\")\n",
        "\n",
        "text =[]\n",
        "for k in range(i+1):\n",
        "  audio_file= open(f\"output_{i}.mp3\", \"rb\")\n",
        "  transcript = client.audio.transcriptions.create(\n",
        "    model=\"whisper-1\",\n",
        "    file=audio_file\n",
        "  )\n",
        "  text.append(transcript.text)\n",
        "st = \"\"\n",
        "for o in text:\n",
        "  st +=o\n",
        "print(st)"
      ],
      "metadata": {
        "colab": {
          "base_uri": "https://localhost:8080/"
        },
        "id": "-r3eavheC0i4",
        "outputId": "db4db62e-1445-476b-848c-c83e76dbf70c"
      },
      "execution_count": null,
      "outputs": [
        {
          "output_type": "stream",
          "name": "stdout",
          "text": [
            "高嘉瑜使用call out 可以獲得一次電話求救機會 你要打給的人是 王世堅 因為 這麼晚了 堅哥嗎 我現在跟八百位的酸民在一起 然後要請 堅哥幫我回答說 到底這個某某 指的是誰 堅哥你一直笑 到底是誰 當然是柯文哲 謝謝堅哥 謝謝喔 所以第三題應該就是柯文哲了 沒錯 堅哥最了解柯文哲 他是科學家 OK 答案鎖定 恭喜答對\n"
          ]
        }
      ]
    },
    {
      "cell_type": "markdown",
      "source": [],
      "metadata": {
        "id": "_le_6qBaLhdo"
      }
    }
  ]
}